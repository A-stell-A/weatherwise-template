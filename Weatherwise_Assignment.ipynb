{
  "nbformat": 4,
  "nbformat_minor": 0,
  "metadata": {
    "colab": {
      "provenance": [],
      "authorship_tag": "ABX9TyN4RueqFFCFJvut+FlOYy7Q",
      "include_colab_link": true
    },
    "kernelspec": {
      "name": "python3",
      "display_name": "Python 3"
    },
    "language_info": {
      "name": "python"
    }
  },
  "cells": [
    {
      "cell_type": "markdown",
      "metadata": {
        "id": "view-in-github",
        "colab_type": "text"
      },
      "source": [
        "<a href=\"https://colab.research.google.com/github/A-stell-A/weatherwise-template/blob/main/Weatherwise_Assignment.ipynb\" target=\"_parent\"><img src=\"https://colab.research.google.com/assets/colab-badge.svg\" alt=\"Open In Colab\"/></a>"
      ]
    },
    {
      "cell_type": "code",
      "execution_count": null,
      "metadata": {
        "id": "yLgl31oyVLhf"
      },
      "outputs": [],
      "source": []
    },
    {
      "cell_type": "code",
      "source": [
        "#Weather Data Component\n",
        "\n",
        "import requests\n",
        "import matplotlib.pyplot as plt\n",
        "from datetime import datetime\n",
        "\n",
        "API_KEY = \"9e58001aecb184f42bbfe60f3ce9751e\"  # Your API Key\n",
        "\n",
        "def get_weather_data(city):\n",
        "    url = f\"https://api.openweathermap.org/data/2.5/forecast?q={city}&appid={API_KEY}&units=metric\"\n",
        "    response = requests.get(url)\n",
        "    return response.json()\n",
        "\n",
        "def display_current_conditions(data):\n",
        "    print(\"\\n--- Current Weather Conditions ---\")\n",
        "    current = data['list'][0]\n",
        "    city = data['city']['name']\n",
        "    temp = current['main']['temp']\n",
        "    condition = current['weather'][0]['description']\n",
        "    humidity = current['main']['humidity']\n",
        "    wind_speed = current['wind']['speed']\n",
        "\n",
        "    print(f\"City: {city}\")\n",
        "    print(f\"Temperature: {temp}°C\")\n",
        "    print(f\"Condition: {condition}\")\n",
        "    print(f\"Humidity: {humidity}%\")\n",
        "    print(f\"Wind Speed: {wind_speed} m/s\")\n",
        "\n",
        "def display_forecast(data):\n",
        "    print(\"\\n--- Forecast (Next 5 Entries ~ 15 hours) ---\")\n",
        "    for entry in data['list'][:5]:\n",
        "        time = datetime.fromtimestamp(entry['dt']).strftime('%Y-%m-%d %H:%M')\n",
        "        temp = entry['main']['temp']\n",
        "        desc = entry['weather'][0]['description']\n",
        "        print(f\"{time} | {temp}°C | {desc}\")\n",
        "\n",
        "def plot_temperature_trend(data):\n",
        "    times = [datetime.fromtimestamp(entry['dt']).strftime('%H:%M') for entry in data['list'][:8]]\n",
        "    temps = [entry['main']['temp'] for entry in data['list'][:8]]\n",
        "\n",
        "    plt.figure(figsize=(10, 4))\n",
        "    plt.plot(times, temps, marker='o', color='orange')\n",
        "    plt.title(\"Temperature Trend (Next 24 Hours)\")\n",
        "    plt.xlabel(\"Time\")\n",
        "    plt.ylabel(\"Temperature (°C)\")\n",
        "    plt.grid(True)\n",
        "    plt.tight_layout()\n",
        "    plt.show()\n",
        "\n",
        "def plot_precipitation_chance(data):\n",
        "    times = [datetime.fromtimestamp(entry['dt']).strftime('%H:%M') for entry in data['list'][:8]]\n",
        "    pops = [entry.get('pop', 0) * 100 for entry in data['list'][:8]]  # pop = probability of precipitation\n",
        "\n",
        "    plt.figure(figsize=(10, 4))\n",
        "    plt.bar(times, pops, color='skyblue')\n",
        "    plt.title(\"Precipitation Chance (Next 24 Hours)\")\n",
        "    plt.xlabel(\"Time\")\n",
        "    plt.ylabel(\"Chance of Rain (%)\")\n",
        "    plt.tight_layout()\n",
        "    plt.show()\n",
        "\n",
        "# -------- Main Program --------\n",
        "city = input(\"Enter a city name (e.g., Perth,AU): \")\n",
        "weather_data = get_weather_data(city)\n",
        "\n",
        "if weather_data.get('cod') != '200':\n",
        "    print(f\"Error: {weather_data.get('message')}\")\n",
        "else:\n",
        "    display_current_conditions(weather_data)\n",
        "    display_forecast(weather_data)\n",
        "    plot_temperature_trend(weather_data)\n",
        "    plot_precipitation_chance(weather_data)\n"
      ],
      "metadata": {
        "id": "sjjs-qVETlWj"
      },
      "execution_count": null,
      "outputs": []
    }
  ]
}